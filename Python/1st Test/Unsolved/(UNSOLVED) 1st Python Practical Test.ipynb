{
 "cells": [
  {
   "cell_type": "markdown",
   "id": "fff120ac",
   "metadata": {},
   "source": [
    "1. Write a Python program to display 'Hello, AI World!'."
   ]
  },
  {
   "cell_type": "code",
   "execution_count": null,
   "id": "502cef86",
   "metadata": {},
   "outputs": [],
   "source": [
    "# Your answer here"
   ]
  },
  {
   "cell_type": "markdown",
   "id": "63e81db9",
   "metadata": {},
   "source": [
    "2. Create a list of integers and print only the even numbers."
   ]
  },
  {
   "cell_type": "code",
   "execution_count": null,
   "id": "c988edb4",
   "metadata": {},
   "outputs": [],
   "source": [
    "# Your answer here"
   ]
  },
  {
   "cell_type": "markdown",
   "id": "0bb5c52c",
   "metadata": {},
   "source": [
    "3. Write a function to calculate the factorial of a number."
   ]
  },
  {
   "cell_type": "code",
   "execution_count": null,
   "id": "f2824dd3",
   "metadata": {},
   "outputs": [],
   "source": [
    "# Your answer here"
   ]
  },
  {
   "cell_type": "markdown",
   "id": "5b4d9b25",
   "metadata": {},
   "source": [
    "4. Demonstrate the use of lambda to square a number."
   ]
  },
  {
   "cell_type": "code",
   "execution_count": null,
   "id": "238f521b",
   "metadata": {},
   "outputs": [],
   "source": [
    "# Your answer here"
   ]
  },
  {
   "cell_type": "markdown",
   "id": "0369eec8",
   "metadata": {},
   "source": [
    "5. Use map() to double the elements of a list."
   ]
  },
  {
   "cell_type": "code",
   "execution_count": null,
   "id": "b919493a",
   "metadata": {},
   "outputs": [],
   "source": [
    "# Your answer here"
   ]
  },
  {
   "cell_type": "markdown",
   "id": "57eb03db",
   "metadata": {},
   "source": [
    "6. Use filter() to get all the odd numbers from a list."
   ]
  },
  {
   "cell_type": "code",
   "execution_count": null,
   "id": "0701d35d",
   "metadata": {},
   "outputs": [],
   "source": [
    "# Your answer here"
   ]
  },
  {
   "cell_type": "markdown",
   "id": "af4e9601",
   "metadata": {},
   "source": [
    "7. Write a program to read a string from the user and check if it is a palindrome."
   ]
  },
  {
   "cell_type": "code",
   "execution_count": null,
   "id": "1205037c",
   "metadata": {},
   "outputs": [],
   "source": [
    "# Your answer here"
   ]
  },
  {
   "cell_type": "markdown",
   "id": "b1018277",
   "metadata": {},
   "source": [
    "8. Create a dictionary with names as keys and ages as values. Print all keys having age > 20."
   ]
  },
  {
   "cell_type": "code",
   "execution_count": null,
   "id": "74798277",
   "metadata": {},
   "outputs": [],
   "source": [
    "# Your answer here"
   ]
  },
  {
   "cell_type": "markdown",
   "id": "42dba58c",
   "metadata": {},
   "source": [
    "9. Demonstrate file handling by writing and reading data from a text file."
   ]
  },
  {
   "cell_type": "code",
   "execution_count": null,
   "id": "d8b2157d",
   "metadata": {},
   "outputs": [],
   "source": [
    "# Your answer here"
   ]
  },
  {
   "cell_type": "markdown",
   "id": "8a76f0c1",
   "metadata": {},
   "source": [
    "10. Create a tuple and show how to access its elements."
   ]
  },
  {
   "cell_type": "code",
   "execution_count": null,
   "id": "69cccd48",
   "metadata": {},
   "outputs": [],
   "source": [
    "# Your answer here"
   ]
  },
  {
   "cell_type": "markdown",
   "id": "b843be8e",
   "metadata": {},
   "source": [
    "11. Write a program using if-elif-else to check the grade of a student."
   ]
  },
  {
   "cell_type": "code",
   "execution_count": null,
   "id": "a9c25408",
   "metadata": {},
   "outputs": [],
   "source": [
    "# Your answer here"
   ]
  },
  {
   "cell_type": "markdown",
   "id": "49ec84f9",
   "metadata": {},
   "source": [
    "12. Use a for loop to print numbers from 1 to 10 with their squares."
   ]
  },
  {
   "cell_type": "code",
   "execution_count": null,
   "id": "336850b6",
   "metadata": {},
   "outputs": [],
   "source": [
    "# Your answer here"
   ]
  },
  {
   "cell_type": "markdown",
   "id": "0b17ae32",
   "metadata": {},
   "source": [
    "13. Demonstrate list comprehension to create a list of cubes from 1 to 10."
   ]
  },
  {
   "cell_type": "code",
   "execution_count": null,
   "id": "306cf199",
   "metadata": {},
   "outputs": [],
   "source": [
    "# Your answer here"
   ]
  },
  {
   "cell_type": "markdown",
   "id": "8be94821",
   "metadata": {},
   "source": [
    "14. Write a nested function to calculate square of a number."
   ]
  },
  {
   "cell_type": "code",
   "execution_count": null,
   "id": "3edbbb2a",
   "metadata": {},
   "outputs": [],
   "source": [
    "# Your answer here"
   ]
  },
  {
   "cell_type": "markdown",
   "id": "103feecb",
   "metadata": {},
   "source": [
    "15. Create a function with default parameters and call it with and without arguments."
   ]
  },
  {
   "cell_type": "code",
   "execution_count": null,
   "id": "681930fc",
   "metadata": {},
   "outputs": [],
   "source": [
    "# Your answer here"
   ]
  },
  {
   "cell_type": "markdown",
   "id": "0c823e9a",
   "metadata": {},
   "source": [
    "16. Create a set and perform union and intersection with another set."
   ]
  },
  {
   "cell_type": "code",
   "execution_count": null,
   "id": "cdf2ff09",
   "metadata": {},
   "outputs": [],
   "source": [
    "# Your answer here"
   ]
  },
  {
   "cell_type": "markdown",
   "id": "965aa02d",
   "metadata": {},
   "source": [
    "17. Demonstrate the use of try-except block to handle division by zero."
   ]
  },
  {
   "cell_type": "code",
   "execution_count": null,
   "id": "37c6b50d",
   "metadata": {},
   "outputs": [],
   "source": [
    "# Your answer here"
   ]
  },
  {
   "cell_type": "markdown",
   "id": "1e03ec5c",
   "metadata": {},
   "source": [
    "18. Create a class with a constructor and a method to display student details."
   ]
  },
  {
   "cell_type": "code",
   "execution_count": null,
   "id": "ccc5f8c6",
   "metadata": {},
   "outputs": [],
   "source": [
    "# Your answer here"
   ]
  },
  {
   "cell_type": "markdown",
   "id": "0624f0f5",
   "metadata": {},
   "source": [
    "19. Demonstrate how to use enumerate in a loop."
   ]
  },
  {
   "cell_type": "code",
   "execution_count": null,
   "id": "bd3d9897",
   "metadata": {},
   "outputs": [],
   "source": [
    "# Your answer here"
   ]
  },
  {
   "cell_type": "markdown",
   "id": "31339007",
   "metadata": {},
   "source": [
    "20. Create a Python function that takes variable-length arguments and returns their sum."
   ]
  },
  {
   "cell_type": "code",
   "execution_count": null,
   "id": "d0947bb4",
   "metadata": {},
   "outputs": [],
   "source": [
    "# Your answer here"
   ]
  }
 ],
 "metadata": {},
 "nbformat": 4,
 "nbformat_minor": 5
}
